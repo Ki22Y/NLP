{
 "cells": [
  {
   "cell_type": "code",
   "execution_count": 13,
   "id": "df74c5c9-e484-42dd-bc31-e3d2272888d7",
   "metadata": {},
   "outputs": [
    {
     "name": "stdin",
     "output_type": "stream",
     "text": [
      "Enter the Noun: phone\n",
      "Enter the verb: cooked\n",
      "Enter the preposition: with\n"
     ]
    },
    {
     "name": "stdout",
     "output_type": "stream",
     "text": [
      "The preposition is attached with Noun.\n"
     ]
    }
   ],
   "source": [
    "import math\n",
    "from nltk.tokenize import word_tokenize\n",
    "from nltk import bigrams\n",
    "\n",
    "with open (\"E:/126156071/lab6/Attachment ambiguity WITH.csv\",'r') as file:\n",
    "    corpus=file.read()\n",
    "tokens=word_tokenize(corpus.lower())\n",
    "element_counts={}\n",
    "for element in tokens:\n",
    "    element_counts[element]=element_counts.get(element, 0)+1\n",
    "bi_grams=list(bigrams(tokens))\n",
    "bigram_counts={}\n",
    "for bigram in bi_grams:\n",
    "    bigram_counts[bigram]=bigram_counts.get(bigram,0)+1\n",
    "noun=input(\"Enter the Noun:\")\n",
    "verb=input(\"Enter the verb:\")\n",
    "prep=input(\"Enter the preposition:\")\n",
    "n=element_counts.get(noun,0)\n",
    "v=element_counts.get(verb,0)\n",
    "p_n=bigram_counts.get((prep,noun),0)\n",
    "p_v=bigram_counts.get((prep,verb),0)\n",
    "def cal_prob(p_v,p_n,v,n):\n",
    "    prob_v=p_v/v if v>0 else 0\n",
    "    prob_n=p_n/n if n>0 else 0\n",
    "    return prob_v,prob_n\n",
    "prob_v,prob_n=cal_prob(p_v,p_n,v,n)\n",
    "def cal_lam(prob_v,prob_n):\n",
    "    if prob_n==0:\n",
    "        return float('inf') if prob_v > 0 else float('-inf')\n",
    "    lamda=math.log((prob_v * (1-prob_n))/prob_n,2)\n",
    "    return lamda\n",
    "    \n",
    "lamda=cal_lam(prob_v,prob_n)\n",
    "\n",
    "if lamda>0:\n",
    "    print(\"The preposition is attached with verb.\")\n",
    "elif lamda<0:\n",
    "    print(\"The preposition is attached with Noun.\")\n",
    "else:\n",
    "    print(\"The preposition attachment cannot be determined.\")"
   ]
  },
  {
   "cell_type": "code",
   "execution_count": null,
   "id": "e87ec4a9-d860-45f8-9e68-a9db184c0c75",
   "metadata": {},
   "outputs": [],
   "source": []
  }
 ],
 "metadata": {
  "kernelspec": {
   "display_name": "Python 3 (ipykernel)",
   "language": "python",
   "name": "python3"
  },
  "language_info": {
   "codemirror_mode": {
    "name": "ipython",
    "version": 3
   },
   "file_extension": ".py",
   "mimetype": "text/x-python",
   "name": "python",
   "nbconvert_exporter": "python",
   "pygments_lexer": "ipython3",
   "version": "3.11.7"
  }
 },
 "nbformat": 4,
 "nbformat_minor": 5
}

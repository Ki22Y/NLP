{
 "cells": [
  {
   "cell_type": "code",
   "execution_count": 49,
   "id": "9579e9af-4bfb-44fb-b83b-fc1ce6818016",
   "metadata": {},
   "outputs": [],
   "source": [
    "import nltk\n",
    "import numpy as np\n",
    "import pandas as pd\n",
    "import string \n",
    "import math"
   ]
  },
  {
   "cell_type": "code",
   "execution_count": 50,
   "id": "bb7e5a7f-a792-49b0-a618-65a169daea63",
   "metadata": {},
   "outputs": [],
   "source": [
    "with open(\"E:/126156071/lab5/Bank.txt\",\"r\") as file:\n",
    "    text=file.read()\n",
    "financial_definition= text.split(\"\\n\\n\\n\")\n",
    "river_definition=text.split(\"\\n\\n\\n\")\n",
    "test_data=text.split(\"\\n\\n\\n\")"
   ]
  },
  {
   "cell_type": "code",
   "execution_count": 54,
   "id": "ad801230-39f5-47fd-b190-64b3c7895895",
   "metadata": {},
   "outputs": [],
   "source": [
    "def dataframe_conversion(defi,sense):\n",
    "    lst=[]\n",
    "    temp=defi.split(\"\\n\")\n",
    "    temp.remove(temp[0])\n",
    "    for i in temp:\n",
    "        for j in i.split(\". \"):\n",
    "            j=j.translate(str.maketrans('', '', string.punctuation))\n",
    "            lst.append(j)\n",
    "    data={\"words\":lst,\"sense\":[sense]*len(lst)}\n",
    "    return pd.DataFrame(data)"
   ]
  },
  {
   "cell_type": "code",
   "execution_count": 55,
   "id": "608be0ea-fd7b-4b37-97ae-16ad7e2a257b",
   "metadata": {},
   "outputs": [
    {
     "ename": "AttributeError",
     "evalue": "'list' object has no attribute 'split'",
     "output_type": "error",
     "traceback": [
      "\u001b[1;31m---------------------------------------------------------------------------\u001b[0m",
      "\u001b[1;31mAttributeError\u001b[0m                            Traceback (most recent call last)",
      "Cell \u001b[1;32mIn[55], line 1\u001b[0m\n\u001b[1;32m----> 1\u001b[0m df1\u001b[38;5;241m=\u001b[39mdataframe_conversion(financial_definition,\u001b[38;5;124m\"\u001b[39m\u001b[38;5;124mFinancial\u001b[39m\u001b[38;5;124m\"\u001b[39m)\n\u001b[0;32m      2\u001b[0m df2\u001b[38;5;241m=\u001b[39mdataframe_conversion(river_definition,\u001b[38;5;124m\"\u001b[39m\u001b[38;5;124mRiver\u001b[39m\u001b[38;5;124m\"\u001b[39m)\n\u001b[0;32m      3\u001b[0m test_df\u001b[38;5;241m=\u001b[39mdataframe_conversion(test_data,\u001b[38;5;124m\"\u001b[39m\u001b[38;5;124m?\u001b[39m\u001b[38;5;124m\"\u001b[39m)\n",
      "Cell \u001b[1;32mIn[54], line 3\u001b[0m, in \u001b[0;36mdataframe_conversion\u001b[1;34m(defi, sense)\u001b[0m\n\u001b[0;32m      1\u001b[0m \u001b[38;5;28;01mdef\u001b[39;00m \u001b[38;5;21mdataframe_conversion\u001b[39m(defi,sense):\n\u001b[0;32m      2\u001b[0m     lst\u001b[38;5;241m=\u001b[39m[]\n\u001b[1;32m----> 3\u001b[0m     temp\u001b[38;5;241m=\u001b[39mdefi\u001b[38;5;241m.\u001b[39msplit(\u001b[38;5;124m\"\u001b[39m\u001b[38;5;130;01m\\n\u001b[39;00m\u001b[38;5;124m\"\u001b[39m)\n\u001b[0;32m      4\u001b[0m     temp\u001b[38;5;241m.\u001b[39mremove(temp[\u001b[38;5;241m0\u001b[39m])\n\u001b[0;32m      5\u001b[0m     \u001b[38;5;28;01mfor\u001b[39;00m i \u001b[38;5;129;01min\u001b[39;00m temp:\n",
      "\u001b[1;31mAttributeError\u001b[0m: 'list' object has no attribute 'split'"
     ]
    }
   ],
   "source": [
    "df1=dataframe_conversion(financial_definition,\"Financial\")\n",
    "df2=dataframe_conversion(river_definition,\"River\")\n",
    "test_df=dataframe_conversion(test_data,\"?\")\n",
    "df1=df1.append(df2)\n",
    "len(df1)\n",
    "df1"
   ]
  },
  {
   "cell_type": "code",
   "execution_count": 32,
   "id": "5e4929cb-3970-49f6-ad4e-175e65e3198c",
   "metadata": {},
   "outputs": [
    {
     "ename": "NameError",
     "evalue": "name 'test_df' is not defined",
     "output_type": "error",
     "traceback": [
      "\u001b[1;31m---------------------------------------------------------------------------\u001b[0m",
      "\u001b[1;31mNameError\u001b[0m                                 Traceback (most recent call last)",
      "Cell \u001b[1;32mIn[32], line 1\u001b[0m\n\u001b[1;32m----> 1\u001b[0m test_df\u001b[38;5;241m=\u001b[39mtest_df\u001b[38;5;241m.\u001b[39mdrop(index\u001b[38;5;241m=\u001b[39mtest_df\u001b[38;5;241m.\u001b[39mindex[\u001b[38;5;241m-\u001b[39m\u001b[38;5;241m2\u001b[39m:])\n\u001b[0;32m      2\u001b[0m test_df\n",
      "\u001b[1;31mNameError\u001b[0m: name 'test_df' is not defined"
     ]
    }
   ],
   "source": [
    "test_df=test_df.drop(index=test_df.index[-2:])\n",
    "test_df"
   ]
  },
  {
   "cell_type": "code",
   "execution_count": 33,
   "id": "bc00783e-9e15-49da-b4b2-56ac859f626c",
   "metadata": {},
   "outputs": [],
   "source": [
    "def pb(df,classifier):\n",
    "    cnt=0\n",
    "    data=df\n",
    "    data=data[data.sense == classifier]\n",
    "    return len(data[ 'sense']/len(df[ 'sense']))"
   ]
  },
  {
   "cell_type": "code",
   "execution_count": 34,
   "id": "5e8a2c41-f822-43a5-89ba-08435c8fa810",
   "metadata": {},
   "outputs": [],
   "source": [
    "def calculate_v(df):\n",
    "    ll=df['words']\n",
    "    l=[]\n",
    "    l1=[]\n",
    "    for i in ll:\n",
    "        l1.append(i.split())\n",
    "    for i in l1:\n",
    "        for j in i:\n",
    "            if j not in l:\n",
    "                l.append(j)\n",
    "    return len(l)"
   ]
  },
  {
   "cell_type": "code",
   "execution_count": 35,
   "id": "ec622588-7dea-46c3-934b-d6b18e408bac",
   "metadata": {},
   "outputs": [],
   "source": [
    "def prob_word(df,classifier,wrd,v):\n",
    "    dff=df[df.sense==classifier]\n",
    "    cnt=0\n",
    "    for word in dff['words']:\n",
    "        if wrd in word:\n",
    "            cnt+=1\n",
    "    return (cnt+1)/(len(dff)+v)"
   ]
  },
  {
   "cell_type": "code",
   "execution_count": 36,
   "id": "c549cf7d-665d-435b-a22f-18ba5236f78e",
   "metadata": {},
   "outputs": [
    {
     "ename": "NameError",
     "evalue": "name 'df1' is not defined",
     "output_type": "error",
     "traceback": [
      "\u001b[1;31m---------------------------------------------------------------------------\u001b[0m",
      "\u001b[1;31mNameError\u001b[0m                                 Traceback (most recent call last)",
      "Cell \u001b[1;32mIn[36], line 1\u001b[0m\n\u001b[1;32m----> 1\u001b[0m p_f\u001b[38;5;241m=\u001b[39mpb(df1,\u001b[38;5;124m'\u001b[39m\u001b[38;5;124mFinancial\u001b[39m\u001b[38;5;124m'\u001b[39m)\n\u001b[0;32m      2\u001b[0m p_r\u001b[38;5;241m=\u001b[39mpb(df1,\u001b[38;5;124m'\u001b[39m\u001b[38;5;124mRiver\u001b[39m\u001b[38;5;124m'\u001b[39m)\n\u001b[0;32m      3\u001b[0m math\u001b[38;5;241m.\u001b[39mlog2(p_f)\n",
      "\u001b[1;31mNameError\u001b[0m: name 'df1' is not defined"
     ]
    }
   ],
   "source": [
    "p_f=pb(df1,'Financial')\n",
    "p_r=pb(df1,'River')\n",
    "math.log2(p_f)"
   ]
  },
  {
   "cell_type": "code",
   "execution_count": 37,
   "id": "4f14bcb1-e091-460e-bfd0-be218af719f5",
   "metadata": {},
   "outputs": [
    {
     "ename": "NameError",
     "evalue": "name 'df1' is not defined",
     "output_type": "error",
     "traceback": [
      "\u001b[1;31m---------------------------------------------------------------------------\u001b[0m",
      "\u001b[1;31mNameError\u001b[0m                                 Traceback (most recent call last)",
      "Cell \u001b[1;32mIn[37], line 1\u001b[0m\n\u001b[1;32m----> 1\u001b[0m v\u001b[38;5;241m=\u001b[39mcalculate_v(df1)\n\u001b[0;32m      2\u001b[0m v\n",
      "\u001b[1;31mNameError\u001b[0m: name 'df1' is not defined"
     ]
    }
   ],
   "source": [
    "v=calculate_v(df1)\n",
    "v"
   ]
  },
  {
   "cell_type": "code",
   "execution_count": 39,
   "id": "d0040e3b-090a-4459-a849-82488d604e12",
   "metadata": {},
   "outputs": [],
   "source": [
    "def naive_bayes(df1,classifier,test_data):\n",
    "    prob_test=math.log2(pb(df1,classifier))\n",
    "    for word in test_data:\n",
    "        word_pb=math.log2(prob_word(df1,classifier,word,v))\n",
    "        prob_test=prob_test+word_pb\n",
    "    return prob_test"
   ]
  },
  {
   "cell_type": "code",
   "execution_count": 40,
   "id": "134a322b-8c6b-44ad-9f4f-afc0e2550bb9",
   "metadata": {},
   "outputs": [
    {
     "ename": "SyntaxError",
     "evalue": "invalid syntax. Perhaps you forgot a comma? (120265031.py, line 7)",
     "output_type": "error",
     "traceback": [
      "\u001b[1;36m  Cell \u001b[1;32mIn[40], line 7\u001b[1;36m\u001b[0m\n\u001b[1;33m    pirnt(\"\\tScore for p(test_data|Financial):\"pb_f)\u001b[0m\n\u001b[1;37m          ^\u001b[0m\n\u001b[1;31mSyntaxError\u001b[0m\u001b[1;31m:\u001b[0m invalid syntax. Perhaps you forgot a comma?\n"
     ]
    }
   ],
   "source": [
    "sense_list=[]\n",
    "for i in test_df['words']:\n",
    "    print(\"\\nFor Test_data:\",i)\n",
    "    pb_r=naive_bayes(df1,'River',i.split())\n",
    "    pb_f=naive_bayes(df1,'Financial',i.split())\n",
    "    print(\"\\tScore for p(test_data|River):\",pb_r)\n",
    "    pirnt(\"\\tScore for p(test_data|Financial):\"pb_f)\n",
    "    if pb_f>pb_r:\n",
    "        sense_list.append(\"Financial\")\n",
    "        print(\"\\tTest data comes under Financial Institution classification\")\n",
    "    else:\n",
    "        sense_list.append(\"River\")\n",
    "        print(\"\\tTest data comes under River Border classification\")"
   ]
  },
  {
   "cell_type": "code",
   "execution_count": null,
   "id": "e68ac632-6ad6-4ffe-8b1d-c2de1905043f",
   "metadata": {},
   "outputs": [],
   "source": []
  }
 ],
 "metadata": {
  "kernelspec": {
   "display_name": "Python 3 (ipykernel)",
   "language": "python",
   "name": "python3"
  },
  "language_info": {
   "codemirror_mode": {
    "name": "ipython",
    "version": 3
   },
   "file_extension": ".py",
   "mimetype": "text/x-python",
   "name": "python",
   "nbconvert_exporter": "python",
   "pygments_lexer": "ipython3",
   "version": "3.11.7"
  }
 },
 "nbformat": 4,
 "nbformat_minor": 5
}

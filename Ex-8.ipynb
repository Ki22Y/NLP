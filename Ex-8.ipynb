{
 "cells": [
  {
   "cell_type": "code",
   "execution_count": 6,
   "id": "7d26ed48-5b50-4939-9286-64b367500e75",
   "metadata": {},
   "outputs": [],
   "source": [
    "from nltk import PCFG, ViterbiParser, InsideChartParser\n",
    "import numpy as np\n",
    "import pandas as pd"
   ]
  },
  {
   "cell_type": "code",
   "execution_count": 7,
   "id": "9ed0153a-5325-4762-ade1-202732de0020",
   "metadata": {},
   "outputs": [],
   "source": [
    "grammar = PCFG.fromstring(\"\"\"\n",
    "S -> NP VP [1.0]\n",
    "VP -> V NP [0.7] | VP PP [0.3]\n",
    "NP -> Det N [0.5] | NP PP [0.2] | 'John' [0.3]\n",
    "PP -> P NP [1.0]\n",
    "V -> 'saw' [0.2] | 'ate' [0.8]\n",
    "Det -> 'the' [0.6] | 'a' [0.4]\n",
    "N -> 'man' [0.5] | 'telescope' [0.5]\n",
    "P -> 'with' [0.4] | 'in' [0.6]\n",
    "\"\"\")\n",
    "parser=ViterbiParser(grammar)\n",
    "sentence=\"John saw a man with a telescope\"\n",
    "tokens=sentence.split()\n"
   ]
  },
  {
   "cell_type": "code",
   "execution_count": 8,
   "id": "a6247b03-cbde-4d8e-9108-fd1930a9c7c2",
   "metadata": {},
   "outputs": [
    {
     "name": "stdout",
     "output_type": "stream",
     "text": [
      "(S\n",
      "  (NP John)\n",
      "  (VP\n",
      "    (VP (V saw) (NP (Det a) (N man)))\n",
      "    (PP (P with) (NP (Det a) (N telescope))))) (p=5.04e-05)\n"
     ]
    }
   ],
   "source": [
    "for tree in parser.parse(tokens):\n",
    "    print(tree)"
   ]
  },
  {
   "cell_type": "code",
   "execution_count": 10,
   "id": "a94da178-b520-4cda-b8a6-f5fe519ae27b",
   "metadata": {},
   "outputs": [],
   "source": [
    "parser=InsideChartParser(grammar)\n",
    "sentence=\"John saw a man with a telescope\"\n",
    "tokens=sentence.split()"
   ]
  },
  {
   "cell_type": "code",
   "execution_count": 11,
   "id": "e4426987-fb86-4283-9757-e5f77d106919",
   "metadata": {},
   "outputs": [
    {
     "name": "stdout",
     "output_type": "stream",
     "text": [
      "(S\n",
      "  (NP John)\n",
      "  (VP\n",
      "    (VP (V saw) (NP (Det a) (N man)))\n",
      "    (PP (P with) (NP (Det a) (N telescope))))) (p=5.04e-05)\n",
      "(S\n",
      "  (NP John)\n",
      "  (VP\n",
      "    (V saw)\n",
      "    (NP\n",
      "      (NP (Det a) (N man))\n",
      "      (PP (P with) (NP (Det a) (N telescope)))))) (p=3.36e-05)\n"
     ]
    }
   ],
   "source": [
    "for tree in parser.parse(tokens):\n",
    "    print(tree)"
   ]
  },
  {
   "cell_type": "code",
   "execution_count": 14,
   "id": "c32f6039-267d-44dd-8993-db14a348fcba",
   "metadata": {},
   "outputs": [
    {
     "name": "stdout",
     "output_type": "stream",
     "text": [
      "                  S                    \n",
      "      ____________|____                 \n",
      "     |                 VP              \n",
      "     |        _________|___             \n",
      "     |       |             NP          \n",
      "     |       |     ________|____        \n",
      "     |       |    |             PP     \n",
      "     |       |    |         ____|___    \n",
      "     NP      V    NP       P        NP \n",
      "     |       |    |        |        |   \n",
      "astronomers saw stars     with     ears\n",
      "\n"
     ]
    }
   ],
   "source": [
    "import nltk\n",
    "from nltk.grammar import PCFG\n",
    "from nltk.parse.viterbi import ViterbiParser\n",
    "from nltk.tree import Tree\n",
    "\n",
    "grammar = PCFG.fromstring(\"\"\"\n",
    "S -> NP VP [1.0]\n",
    "PP -> P NP [1.0]\n",
    "VP -> V NP [0.7] | VP PP [0.3]\n",
    "P -> 'with' [1.0]\n",
    "V -> 'saw' [1.0]\n",
    "NP -> NP PP [0.4] |'astronomers' [0.1] | 'ears' [0.18] | 'saw' [0.04] | 'with' [0.20] | 'stars' [0.08]\n",
    "\"\"\")\n",
    "\n",
    "parser=ViterbiParser(grammar)\n",
    "sentence=\"astronomers saw stars with ears\"\n",
    "tokens=sentence.split()\n",
    "try:\n",
    "    for tree in parser.parse(tokens):\n",
    "        tree.pretty_print()\n",
    "except ValueError:\n",
    "    print(\"No parse tree found for the sentence\")"
   ]
  },
  {
   "cell_type": "code",
   "execution_count": null,
   "id": "0e4f4a6f-2f63-4c34-bd31-5c9210c8483d",
   "metadata": {},
   "outputs": [],
   "source": []
  }
 ],
 "metadata": {
  "kernelspec": {
   "display_name": "Python 3 (ipykernel)",
   "language": "python",
   "name": "python3"
  },
  "language_info": {
   "codemirror_mode": {
    "name": "ipython",
    "version": 3
   },
   "file_extension": ".py",
   "mimetype": "text/x-python",
   "name": "python",
   "nbconvert_exporter": "python",
   "pygments_lexer": "ipython3",
   "version": "3.11.7"
  }
 },
 "nbformat": 4,
 "nbformat_minor": 5
}

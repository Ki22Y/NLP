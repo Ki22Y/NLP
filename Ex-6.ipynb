{
 "cells": [
  {
   "cell_type": "code",
   "execution_count": 79,
   "id": "36382bdd-fd2a-4da6-81b8-b1999b4c897a",
   "metadata": {},
   "outputs": [
    {
     "name": "stdin",
     "output_type": "stream",
     "text": [
      "Enter no of states: 2\n"
     ]
    },
    {
     "name": "stdout",
     "output_type": "stream",
     "text": [
      "initial prob for each state:\n",
      "\n"
     ]
    },
    {
     "name": "stdin",
     "output_type": "stream",
     "text": [
      "enter initial probability for state: 1\n",
      "Enter state name: cp\n",
      "enter initial probability for state: 0\n",
      "Enter state name: ip\n"
     ]
    },
    {
     "name": "stdout",
     "output_type": "stream",
     "text": [
      "{0: 1, 1: 0}\n"
     ]
    }
   ],
   "source": [
    "n=int(input(\"Enter no of states:\"))\n",
    "print(\"initial prob for each state:\\n\")\n",
    "prob={}\n",
    "state_name={}\n",
    "for i in range(n):\n",
    "    prob[i]=int(input(\"enter initial probability for state:\"))\n",
    "    s=input(\"Enter state name:\")\n",
    "    state_name[i]=s\n",
    "print(prob)"
   ]
  },
  {
   "cell_type": "code",
   "execution_count": 20,
   "id": "733e6062-1dce-41e9-90cf-88077179601a",
   "metadata": {},
   "outputs": [
    {
     "name": "stdin",
     "output_type": "stream",
     "text": [
      "Enter output sequence: lem ice-t cola\n"
     ]
    },
    {
     "name": "stdout",
     "output_type": "stream",
     "text": [
      "\n",
      " Output Sequence: lem ice-t cola\n"
     ]
    }
   ],
   "source": [
    "output=input(\"Enter output sequence:\")\n",
    "print(\"\\n Output Sequence:\",output)\n",
    "out=output.split()"
   ]
  },
  {
   "cell_type": "code",
   "execution_count": 81,
   "id": "8c88ed5d-d163-4be3-8865-d7be0a57591d",
   "metadata": {},
   "outputs": [
    {
     "name": "stdin",
     "output_type": "stream",
     "text": [
      "Enter the emission states: cola ice-t lem\n"
     ]
    },
    {
     "name": "stdout",
     "output_type": "stream",
     "text": [
      "Output emission: lem ice-t cola\n",
      "Possible emission: 6\n"
     ]
    },
    {
     "name": "stdin",
     "output_type": "stream",
     "text": [
      "Enter the emission probability for state 0 and emission 'cola':  0.6\n",
      "Enter the emission probability for state 0 and emission 'ice-t':  0.1\n",
      "Enter the emission probability for state 0 and emission 'lem':  0.3\n",
      "Enter the emission probability for state 1 and emission 'cola':  0.1\n",
      "Enter the emission probability for state 1 and emission 'ice-t':  0.7\n",
      "Enter the emission probability for state 1 and emission 'lem':  0.2\n"
     ]
    },
    {
     "name": "stdout",
     "output_type": "stream",
     "text": [
      "{(0, 'cola'): 0.6, (0, 'ice-t'): 0.1, (0, 'lem'): 0.3, (1, 'cola'): 0.1, (1, 'ice-t'): 0.7, (1, 'lem'): 0.2}\n"
     ]
    }
   ],
   "source": [
    "output1=input(\"Enter the emission states:\")\n",
    "out1=output1.split()\n",
    "p=n*(len(out1))\n",
    "print(\"Output emission:\",output)\n",
    "print(\"Possible emission:\",p)\n",
    "emit={}\n",
    "for i in range(n):\n",
    "    for j in out1:\n",
    "        key = (i, j)\n",
    "        value = float(input(f\"Enter the emission probability for state {i} and emission '{j}': \"))\n",
    "        emit[key] = value\n",
    "print(emit)"
   ]
  },
  {
   "cell_type": "code",
   "execution_count": 23,
   "id": "960ff2d8-5672-4ce1-9f5e-dcd8a441cdc2",
   "metadata": {},
   "outputs": [
    {
     "name": "stdout",
     "output_type": "stream",
     "text": [
      "No. of transition for given states is: 4\n"
     ]
    },
    {
     "name": "stdin",
     "output_type": "stream",
     "text": [
      "Enter the transistion probability for state 0 and emission '0':  0.7\n",
      "Enter the transistion probability for state 0 and emission '1':  0.3\n",
      "Enter the transistion probability for state 1 and emission '0':  0.5\n",
      "Enter the transistion probability for state 1 and emission '1':  0.5\n"
     ]
    },
    {
     "name": "stdout",
     "output_type": "stream",
     "text": [
      "{(1, 'lem'): 0.5}\n"
     ]
    }
   ],
   "source": [
    "t=n**2\n",
    "print(\"No. of transition for given states is:\",t)\n",
    "trans={}\n",
    "for i in range(n):\n",
    "    for j in range(n):\n",
    "        key1 = (i, j)\n",
    "        value1 = float(input(f\"Enter the transistion probability for state {i} and emission '{j}': \"))\n",
    "        trans[key] = value1\n",
    "print(trans)"
   ]
  },
  {
   "cell_type": "code",
   "execution_count": 24,
   "id": "fd351399-1826-4322-809d-aeee04691a71",
   "metadata": {},
   "outputs": [
    {
     "data": {
      "text/plain": [
       "[1.0, 0.0]"
      ]
     },
     "execution_count": 24,
     "metadata": {},
     "output_type": "execute_result"
    }
   ],
   "source": [
    "alpha=[[], ]\n",
    "beta=[[]]\n",
    "for i in range(n):\n",
    "    alpha[0].extend([prob[i]])\n",
    "    beta[0].extend([1])\n",
    "alpha[0]"
   ]
  },
  {
   "cell_type": "code",
   "execution_count": 25,
   "id": "4eea2798-51c5-4fcf-aa4d-0c14d46299af",
   "metadata": {},
   "outputs": [],
   "source": [
    "gamma=[]"
   ]
  },
  {
   "cell_type": "code",
   "execution_count": 82,
   "id": "392c77fb-fcd9-4e4a-8206-5b7df579efdf",
   "metadata": {},
   "outputs": [],
   "source": [
    "def tr_forward(n,out,trans,emit,aplha):\n",
    "    alp=[]\n",
    "    lists=[]\n",
    "    for i in range(n):\n",
    "        for j in range(n):\n",
    "            value=(alpha[j])*(emit[j,out])*(trans[j,i])\n",
    "            lists.append(value)\n",
    "        else:\n",
    "            if len(lists)==2:\n",
    "                alp.append(lists[0]+lists[2])\n",
    "                lists=[]\n",
    "            elif len(lists)==3:\n",
    "                alp.append(lists[0]+lists[1]+lists[2])\n",
    "                lists=[]\n",
    "    return alp"
   ]
  },
  {
   "cell_type": "code",
   "execution_count": 83,
   "id": "5fc95f89-fe81-41eb-a91e-6eeff2b270aa",
   "metadata": {},
   "outputs": [],
   "source": [
    "def tr_backward(n,out,trans,emit,beta):\n",
    "    bt=[]\n",
    "    lists=[]\n",
    "    for i in range(n):\n",
    "        for j in range(n):\n",
    "            value=beta[j]*emit[j,out[i]]*trans[j,i]\n",
    "            lists.append(value)\n",
    "        else:\n",
    "            if len(lists)==2:\n",
    "                bt.append(lists[0]+lists[2])\n",
    "                lists=[]\n",
    "            elif len(lists)==3:\n",
    "                bt.append(lists[0]+lists[1]+lists[2])\n",
    "                lists=[]\n",
    "    return bt"
   ]
  },
  {
   "cell_type": "code",
   "execution_count": 84,
   "id": "805ad41c-7f66-46c6-8034-4e9ad45597b0",
   "metadata": {},
   "outputs": [
    {
     "ename": "TypeError",
     "evalue": "can't multiply sequence by non-int of type 'float'",
     "output_type": "error",
     "traceback": [
      "\u001b[1;31m---------------------------------------------------------------------------\u001b[0m",
      "\u001b[1;31mTypeError\u001b[0m                                 Traceback (most recent call last)",
      "Cell \u001b[1;32mIn[84], line 3\u001b[0m\n\u001b[0;32m      1\u001b[0m c\u001b[38;5;241m=\u001b[39m\u001b[38;5;241m0\u001b[39m\n\u001b[0;32m      2\u001b[0m \u001b[38;5;28;01mfor\u001b[39;00m i \u001b[38;5;129;01min\u001b[39;00m out:\n\u001b[1;32m----> 3\u001b[0m     new \u001b[38;5;241m=\u001b[39m tr_forward(n,i,trans,emit,alpha[c])\n\u001b[0;32m      4\u001b[0m     alpha\u001b[38;5;241m.\u001b[39mappend(new)\n\u001b[0;32m      5\u001b[0m     c\u001b[38;5;241m+\u001b[39m\u001b[38;5;241m=\u001b[39m\u001b[38;5;241m1\u001b[39m\n",
      "Cell \u001b[1;32mIn[82], line 6\u001b[0m, in \u001b[0;36mtr_forward\u001b[1;34m(n, out, trans, emit, aplha)\u001b[0m\n\u001b[0;32m      4\u001b[0m \u001b[38;5;28;01mfor\u001b[39;00m i \u001b[38;5;129;01min\u001b[39;00m \u001b[38;5;28mrange\u001b[39m(n):\n\u001b[0;32m      5\u001b[0m     \u001b[38;5;28;01mfor\u001b[39;00m j \u001b[38;5;129;01min\u001b[39;00m \u001b[38;5;28mrange\u001b[39m(n):\n\u001b[1;32m----> 6\u001b[0m         value\u001b[38;5;241m=\u001b[39m(alpha[j])\u001b[38;5;241m*\u001b[39m(emit[j,out])\u001b[38;5;241m*\u001b[39m(trans[j,i])\n\u001b[0;32m      7\u001b[0m         lists\u001b[38;5;241m.\u001b[39mappend(value)\n\u001b[0;32m      8\u001b[0m     \u001b[38;5;28;01melse\u001b[39;00m:\n",
      "\u001b[1;31mTypeError\u001b[0m: can't multiply sequence by non-int of type 'float'"
     ]
    }
   ],
   "source": [
    "c=0\n",
    "for i in out:\n",
    "    new = tr_forward(n,i,trans,emit,alpha[c])\n",
    "    alpha.append(new)\n",
    "    c+=1\n",
    "print(alpha)"
   ]
  },
  {
   "cell_type": "code",
   "execution_count": 45,
   "id": "802e8be1-0ae1-4149-afb9-47079de22835",
   "metadata": {},
   "outputs": [
    {
     "name": "stdout",
     "output_type": "stream",
     "text": [
      "['cola', 'ice-t', 'lem']\n"
     ]
    }
   ],
   "source": [
    "def rev(lis):\n",
    "    new_lst=lis[::-1]\n",
    "    return new_lst\n",
    "out=rev(out)\n",
    "print(out)"
   ]
  },
  {
   "cell_type": "code",
   "execution_count": 46,
   "id": "cee5ab52-070f-4392-9268-6f73816f90ff",
   "metadata": {},
   "outputs": [
    {
     "ename": "KeyError",
     "evalue": "(0, 'c')",
     "output_type": "error",
     "traceback": [
      "\u001b[1;31m---------------------------------------------------------------------------\u001b[0m",
      "\u001b[1;31mKeyError\u001b[0m                                  Traceback (most recent call last)",
      "Cell \u001b[1;32mIn[46], line 3\u001b[0m\n\u001b[0;32m      1\u001b[0m c\u001b[38;5;241m=\u001b[39m\u001b[38;5;241m0\u001b[39m\n\u001b[0;32m      2\u001b[0m \u001b[38;5;28;01mfor\u001b[39;00m i \u001b[38;5;129;01min\u001b[39;00m out:\n\u001b[1;32m----> 3\u001b[0m     new\u001b[38;5;241m=\u001b[39mtr_backward(n,i,trans,emit,beta[c])\n\u001b[0;32m      4\u001b[0m     beta\u001b[38;5;241m.\u001b[39mappend(new)\n\u001b[0;32m      5\u001b[0m     c\u001b[38;5;241m+\u001b[39m\u001b[38;5;241m=\u001b[39m\u001b[38;5;241m1\u001b[39m\n",
      "Cell \u001b[1;32mIn[43], line 6\u001b[0m, in \u001b[0;36mtr_backward\u001b[1;34m(n, out, trans, emit, beta)\u001b[0m\n\u001b[0;32m      4\u001b[0m \u001b[38;5;28;01mfor\u001b[39;00m i \u001b[38;5;129;01min\u001b[39;00m \u001b[38;5;28mrange\u001b[39m(n):\n\u001b[0;32m      5\u001b[0m     \u001b[38;5;28;01mfor\u001b[39;00m j \u001b[38;5;129;01min\u001b[39;00m \u001b[38;5;28mrange\u001b[39m(n):\n\u001b[1;32m----> 6\u001b[0m         value\u001b[38;5;241m=\u001b[39mbeta[j]\u001b[38;5;241m*\u001b[39memit[j,out[i]]\u001b[38;5;241m*\u001b[39mtrans[j,i]\n\u001b[0;32m      7\u001b[0m         lists\u001b[38;5;241m.\u001b[39mappend(value)\n\u001b[0;32m      8\u001b[0m     \u001b[38;5;28;01melse\u001b[39;00m:\n",
      "\u001b[1;31mKeyError\u001b[0m: (0, 'c')"
     ]
    }
   ],
   "source": [
    "c=0\n",
    "for i in out:\n",
    "    new=tr_backward(n,i,trans,emit,beta[c])\n",
    "    beta.append(new)\n",
    "    c+=1\n",
    "print(\"\\n beta:\",beta)"
   ]
  },
  {
   "cell_type": "code",
   "execution_count": 34,
   "id": "b99fb7bd-6309-4473-8684-846cae71cb35",
   "metadata": {},
   "outputs": [
    {
     "name": "stdout",
     "output_type": "stream",
     "text": [
      "\n",
      " 1.0 \n",
      " 1.0\n"
     ]
    }
   ],
   "source": [
    "a=alpha[-1]\n",
    "prob_forward_seq=0\n",
    "prob_backward_seq=0\n",
    "for i in a:\n",
    "    prob_forward_seq+=i\n",
    "b=beta[-1]\n",
    "c=alpha[0]\n",
    "for i in range(len(b)):\n",
    "    prob_backward_seq+=(b[i]*c[i])\n",
    "print(\"\\n\",prob_forward_seq,\"\\n\",prob_backward_seq)"
   ]
  },
  {
   "cell_type": "code",
   "execution_count": 35,
   "id": "b36ae76d-778e-4a6c-b5bb-94d113bbff1a",
   "metadata": {},
   "outputs": [],
   "source": [
    "def best_seq(n,alpha,beta):\n",
    "    if n==2:\n",
    "        num1=alpha[0]*beta[0]\n",
    "        num2=alpha[1]*beta[1]\n",
    "        total=num1+num2\n",
    "        gamma1=num1/total\n",
    "        gamma2=num2/total\n",
    "        return [gamma1,gamma2]\n",
    "    elif n==3:\n",
    "        num1=alpha[0]*beta[0]#respective alpha and beta multiplication\n",
    "        num2=alpha[1]*beta[1]\n",
    "        num3=alpha[2]*beta[2]\n",
    "        total=num1+num2+num3\n",
    "        gamma1=num1/total\n",
    "        gamma2=num2/total\n",
    "        gamma3=num3/total\n",
    "        return [gamma1,gamma2,gamma3]"
   ]
  },
  {
   "cell_type": "code",
   "execution_count": 36,
   "id": "6315d320-0215-4e36-8c35-829c063f7aaf",
   "metadata": {},
   "outputs": [
    {
     "ename": "IndexError",
     "evalue": "list index out of range",
     "output_type": "error",
     "traceback": [
      "\u001b[1;31m---------------------------------------------------------------------------\u001b[0m",
      "\u001b[1;31mIndexError\u001b[0m                                Traceback (most recent call last)",
      "Cell \u001b[1;32mIn[36], line 9\u001b[0m\n\u001b[0;32m      7\u001b[0m \u001b[38;5;28;01mwhile\u001b[39;00m(counter2\u001b[38;5;241m!=\u001b[39m\u001b[38;5;241m-\u001b[39m\u001b[38;5;241m1\u001b[39m):\n\u001b[0;32m      8\u001b[0m     lists\u001b[38;5;241m=\u001b[39m[]\n\u001b[1;32m----> 9\u001b[0m     lists\u001b[38;5;241m=\u001b[39mbest_seq(n,alpha[counter1],beta[counter2])\n\u001b[0;32m     10\u001b[0m     gamma\u001b[38;5;241m.\u001b[39mappend(lists)\n\u001b[0;32m     11\u001b[0m     \u001b[38;5;28;01mif\u001b[39;00m n\u001b[38;5;241m==\u001b[39m\u001b[38;5;241m2\u001b[39m:\n",
      "\u001b[1;31mIndexError\u001b[0m: list index out of range"
     ]
    }
   ],
   "source": [
    "counter1=0\n",
    "counter2=len(out)#n+1\n",
    "#appending each gamma value to appropriate state list\n",
    "state0=[]\n",
    "state1=[]\n",
    "state2=[]\n",
    "while(counter2!=-1):\n",
    "    lists=[]\n",
    "    lists=best_seq(n,alpha[counter1],beta[counter2])\n",
    "    gamma.append(lists)\n",
    "    if n==2:\n",
    "        if lists[0]>lists[1]:\n",
    "            state0.append(lists[0])\n",
    "            state1.append(0)\n",
    "        elif lists[0]<lists[1]:\n",
    "            state1.append(lists[0])\n",
    "            state0.append(0)\n",
    "        elif lists[0]==lists[1]:\n",
    "            state0.append(lists[0])\n",
    "            state1.append(0)\n",
    "    elif n==3:\n",
    "        if lists[0]>lists[1] and lists[0]>lists[2]:\n",
    "            state0.append(lists[0])\n",
    "            state1.append(0)\n",
    "            state2.append(0)\n",
    "        elif lists[0]<lists[1] and lists[2]<lists[1]:\n",
    "            state1.append(lists[0])\n",
    "            state0.append(0)\n",
    "            state2.append(0)\n",
    "        elif lists[0]<lists[2] and lists[1]<lists[2]:\n",
    "            state2.append(lists[0])\n",
    "            state0.append(0)\n",
    "            state1.append(0)\n",
    "        elif lists[0]==lists[1] and lists[1]==lists[2]:\n",
    "            state0.append(lists[0])\n",
    "            state1.append(0)\n",
    "            state2.append(0)\n",
    "    counter1+=1\n",
    "    counter2-=1\n",
    "print(\"Gamma values:\\n\",gamma,\"\\n\",len(gamma))\n",
    "print(\"\\nstate0:\",state0,\"\\nstate1:\",state1,\"\\nstate2:\",state2)"
   ]
  },
  {
   "cell_type": "code",
   "execution_count": 37,
   "id": "6a2548e6-f97e-4f79-b82f-cf43711613e4",
   "metadata": {},
   "outputs": [
    {
     "name": "stdout",
     "output_type": "stream",
     "text": [
      "[]\n",
      "\n",
      " []\n"
     ]
    }
   ],
   "source": [
    "j=0\n",
    "n1=n\n",
    "state=[]\n",
    "while(j<len(gamma)):\n",
    "    if n1==2:\n",
    "        if state0[j]>state1[j]:#compare the values and attach the states\n",
    "            state.append(0)\n",
    "        else:\n",
    "            state.append(1)\n",
    "        j+=1\n",
    "    elif n1==3:\n",
    "        if state0[j]>state1[j] and state0[j]>state2[j]:\n",
    "            state.append(0)\n",
    "        elif state1[j]>state0[j] and state1[j]>state2[j]:\n",
    "            state.append(1)\n",
    "        elif state2[j]>state0[j] and state2[j]>state1[j]:\n",
    "            state.append(2)\n",
    "        j+=1\n",
    "print(state)\n",
    "state_display=[]\n",
    "for k in state:\n",
    "    if k in state_name.keys():\n",
    "        state_display.append(state_name[k])\n",
    "print(\"\\n\",state_display)"
   ]
  },
  {
   "cell_type": "code",
   "execution_count": null,
   "id": "5682f079-dd86-4e10-9c36-8d3fba71c692",
   "metadata": {},
   "outputs": [],
   "source": []
  }
 ],
 "metadata": {
  "kernelspec": {
   "display_name": "Python 3 (ipykernel)",
   "language": "python",
   "name": "python3"
  },
  "language_info": {
   "codemirror_mode": {
    "name": "ipython",
    "version": 3
   },
   "file_extension": ".py",
   "mimetype": "text/x-python",
   "name": "python",
   "nbconvert_exporter": "python",
   "pygments_lexer": "ipython3",
   "version": "3.11.7"
  }
 },
 "nbformat": 4,
 "nbformat_minor": 5
}

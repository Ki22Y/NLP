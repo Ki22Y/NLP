{
 "cells": [
  {
   "cell_type": "code",
   "execution_count": 2,
   "id": "284f8cb3-6b42-4770-84e3-85057b102544",
   "metadata": {},
   "outputs": [
    {
     "name": "stdout",
     "output_type": "stream",
     "text": [
      "(0.0189, ['cp', 'ip', 'cp'])\n"
     ]
    }
   ],
   "source": [
    "import numpy as np\n",
    "\n",
    "def viterbi(obs, states, start_p, trans_p, emit_p):\n",
    "    V = [{}]\n",
    "    path = {}\n",
    "\n",
    "    for y in states:\n",
    "        V[0][y] = start_p[y] * emit_p[y][obs[0]]\n",
    "        path[y] = [y]\n",
    "\n",
    "    for t in range(1, len(obs)):\n",
    "        V.append({})\n",
    "        newpath = {}\n",
    "\n",
    "        for y in states:\n",
    "            (prob, state) = max(\n",
    "                [(V[t-1][y0] * trans_p[y0][y] * emit_p[y][obs[t]], y0) for y0 in states]\n",
    "            )\n",
    "            V[t][y] = prob\n",
    "            newpath[y] = path[state] + [y]\n",
    "\n",
    "        path = newpath\n",
    "\n",
    "    (prob, state) = max([(V[-1][y], y) for y in states])\n",
    "    return (prob, path[state])\n",
    "\n",
    "states = ('cp', 'ip')\n",
    "observations = ('cola', 'ice-t', 'lem')\n",
    "start_probability = {'cp': 1, 'ip': 0}\n",
    "transition_probability = {\n",
    "   'cp' : {'cp': 0.7, 'ip': 0.3},\n",
    "   'ip' : {'cp': 0.5, 'ip': 0.5},\n",
    "   }\n",
    "emission_probability = {\n",
    "   'cp' : {'cola': 0.6, 'ice-t': 0.1, 'lem': 0.3},\n",
    "   'ip' : {'cola': 0.1, 'ice-t': 0.7, 'lem': 0.2},\n",
    "   }\n",
    "\n",
    "print(viterbi(observations, states, start_probability, transition_probability, emission_probability))\n"
   ]
  },
  {
   "cell_type": "code",
   "execution_count": null,
   "id": "7040c543-0041-4648-9994-6daadf2cb86f",
   "metadata": {},
   "outputs": [],
   "source": []
  }
 ],
 "metadata": {
  "kernelspec": {
   "display_name": "Python 3 (ipykernel)",
   "language": "python",
   "name": "python3"
  },
  "language_info": {
   "codemirror_mode": {
    "name": "ipython",
    "version": 3
   },
   "file_extension": ".py",
   "mimetype": "text/x-python",
   "name": "python",
   "nbconvert_exporter": "python",
   "pygments_lexer": "ipython3",
   "version": "3.11.7"
  }
 },
 "nbformat": 4,
 "nbformat_minor": 5
}

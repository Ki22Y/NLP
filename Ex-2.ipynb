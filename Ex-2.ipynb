{
 "cells": [
  {
   "cell_type": "code",
   "execution_count": 1,
   "id": "2710a394-7807-47db-ab17-5fe5d906d71b",
   "metadata": {},
   "outputs": [],
   "source": [
    "import nltk"
   ]
  },
  {
   "cell_type": "code",
   "execution_count": 2,
   "id": "032902fd-6e05-4e5c-9b10-47771b9dfd1f",
   "metadata": {},
   "outputs": [],
   "source": [
    "import re\n",
    "from nltk.corpus import wordnet\n",
    "R_patterns = [\n",
    "   (r'won\\'t', 'will not'),\n",
    "   (r'can\\'t', 'cannot'),\n",
    "   (r'i\\'m', 'i am'),\n",
    "   (r'(\\w+)\\'ll', '\\g<1> will'),\n",
    "   (r'(\\w+)n\\'t', '\\g<1> not'),\n",
    "   (r'(\\w+)\\'ve', '\\g<1> have'),\n",
    "   (r'(\\w+)\\'s', '\\g<1> is'),\n",
    "   (r'(\\w+)\\'re', '\\g<1> are'),\n",
    "]\n",
    "class REReplacer(object):\n",
    "    def __init__(self, patterns=R_patterns):\n",
    "       self.patterns = [(re.compile(regex), repl) for (regex, repl) in patterns]\n",
    "    def replace(self, text):\n",
    "       s = text\n",
    "       for (pattern, repl) in self.patterns:\n",
    "          s = re.sub(pattern, repl, s)\n",
    "       return s"
   ]
  },
  {
   "cell_type": "code",
   "execution_count": 3,
   "id": "96a5232a-b50f-4966-9dcc-03be06b4d1fd",
   "metadata": {},
   "outputs": [
    {
     "name": "stdout",
     "output_type": "stream",
     "text": [
      "she knocked the door\n",
      "they knocked at the door\n",
      "a man knocked on the metal front door\n",
      "she knocked door\n"
     ]
    }
   ],
   "source": [
    "txt=\"E:/126156071/Lab4/text.txt\"\n",
    "with open(txt,'r')as file:\n",
    " txtcont=file.read()\n",
    "print(txtcont)"
   ]
  },
  {
   "cell_type": "code",
   "execution_count": 4,
   "id": "33d179e0-0d01-478b-9620-f32ad7addbee",
   "metadata": {
    "scrolled": true
   },
   "outputs": [
    {
     "name": "stderr",
     "output_type": "stream",
     "text": [
      "[nltk_data] Downloading package stopwords to\n",
      "[nltk_data]     C:\\Users\\admin\\AppData\\Roaming\\nltk_data...\n",
      "[nltk_data]   Package stopwords is already up-to-date!\n"
     ]
    },
    {
     "data": {
      "text/plain": [
       "True"
      ]
     },
     "execution_count": 4,
     "metadata": {},
     "output_type": "execute_result"
    }
   ],
   "source": [
    "nltk.download('stopwords')"
   ]
  },
  {
   "cell_type": "code",
   "execution_count": 6,
   "id": "536d813b-1cb0-414c-b019-5da5c40ed65e",
   "metadata": {},
   "outputs": [
    {
     "name": "stdin",
     "output_type": "stream",
     "text": [
      "Enter value 3.10\n"
     ]
    }
   ],
   "source": [
    "import string\n",
    "import nltk ,re\n",
    "import math\n",
    "import numpy as np\n",
    "from nltk.corpus import stopwords\n",
    "\n",
    "critic_value=float(input('Enter value'))"
   ]
  },
  {
   "cell_type": "code",
   "execution_count": 7,
   "id": "9a30d598-1267-4675-b635-b3058ac74e4d",
   "metadata": {},
   "outputs": [],
   "source": [
    "sword=set(stopwords.words('english'))"
   ]
  },
  {
   "cell_type": "code",
   "execution_count": 8,
   "id": "3db91e35-5699-4815-a168-e276f0c13e0b",
   "metadata": {},
   "outputs": [],
   "source": [
    "tok=nltk.sent_tokenize(txtcont)"
   ]
  },
  {
   "cell_type": "code",
   "execution_count": 9,
   "id": "d72a038e-9022-4854-a294-ce2727053c77",
   "metadata": {},
   "outputs": [
    {
     "name": "stdout",
     "output_type": "stream",
     "text": [
      "['she knocked the door\\nthey knocked at the door\\na man knocked on the metal front door\\nshe knocked door']\n"
     ]
    }
   ],
   "source": [
    "print(tok)"
   ]
  },
  {
   "cell_type": "code",
   "execution_count": 10,
   "id": "53c73140-3d22-45ab-bf98-6d5b8c436aca",
   "metadata": {},
   "outputs": [],
   "source": [
    "rtok=[]\n",
    "rep_word=REReplacer()\n",
    "for i in tok:\n",
    "   n=rep_word.replace(i)\n",
    "   n=n.translate(str.maketrans('', '', string.punctuation))\n",
    "   rtok.append(n)"
   ]
  },
  {
   "cell_type": "code",
   "execution_count": 11,
   "id": "fd300f8c-36c1-4ced-b671-fae0e9979a6d",
   "metadata": {},
   "outputs": [
    {
     "data": {
      "text/plain": [
       "['she knocked the door\\nthey knocked at the door\\na man knocked on the metal front door\\nshe knocked door']"
      ]
     },
     "execution_count": 11,
     "metadata": {},
     "output_type": "execute_result"
    }
   ],
   "source": [
    "rtok"
   ]
  },
  {
   "cell_type": "code",
   "execution_count": 19,
   "id": "1ee482b8-2ae0-4b39-b9ef-616f8d5d18b8",
   "metadata": {},
   "outputs": [],
   "source": [
    "wtok=[]\n",
    "for j in rtok:\n",
    "    txtcont=nltk.word_tokenize(j)\n",
    "    for s in tok:\n",
    "        wtok.append(s)"
   ]
  },
  {
   "cell_type": "code",
   "execution_count": 22,
   "id": "9d85c4c3-f6f4-4406-849d-b27d4767c2e8",
   "metadata": {},
   "outputs": [],
   "source": [
    "t=[]\n",
    "for w in wtok:\n",
    "    if w not in sword:\n",
    "        t.append(w)"
   ]
  },
  {
   "cell_type": "code",
   "execution_count": 24,
   "id": "57426f6e-7b54-409c-a27c-df85d71f6868",
   "metadata": {},
   "outputs": [
    {
     "name": "stdout",
     "output_type": "stream",
     "text": [
      "['she knocked the door\\nthey knocked at the door\\na man knocked on the metal front door\\nshe knocked door']\n",
      "1\n"
     ]
    }
   ],
   "source": [
    "print(texts)\n",
    "N=len(texts)\n",
    "print(N)"
   ]
  },
  {
   "cell_type": "code",
   "execution_count": null,
   "id": "20e7cddf-5aa1-47e9-be17-79adbff471a3",
   "metadata": {},
   "outputs": [],
   "source": []
  }
 ],
 "metadata": {
  "kernelspec": {
   "display_name": "Python 3 (ipykernel)",
   "language": "python",
   "name": "python3"
  },
  "language_info": {
   "codemirror_mode": {
    "name": "ipython",
    "version": 3
   },
   "file_extension": ".py",
   "mimetype": "text/x-python",
   "name": "python",
   "nbconvert_exporter": "python",
   "pygments_lexer": "ipython3",
   "version": "3.11.7"
  }
 },
 "nbformat": 4,
 "nbformat_minor": 5
}

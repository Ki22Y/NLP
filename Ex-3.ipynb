{
 "cells": [
  {
   "cell_type": "code",
   "execution_count": 1,
   "id": "78babd07-5e6f-4a18-ba5b-932f6d2745e3",
   "metadata": {},
   "outputs": [],
   "source": [
    "import pandas as pd"
   ]
  },
  {
   "cell_type": "code",
   "execution_count": 14,
   "id": "b71d2de6-efd7-4135-aa50-24a1ad140571",
   "metadata": {},
   "outputs": [],
   "source": [
    "text=\" I am Sam Sam I am I do not like green eggs \""
   ]
  },
  {
   "cell_type": "code",
   "execution_count": 32,
   "id": "03bc5cce-2c91-475e-8f0d-cf2ae92f772c",
   "metadata": {},
   "outputs": [],
   "source": [
    "qtext=\" I am Sam green \""
   ]
  },
  {
   "cell_type": "code",
   "execution_count": 33,
   "id": "16df041b-6f82-464c-9761-fa4906fd5863",
   "metadata": {},
   "outputs": [
    {
     "name": "stdout",
     "output_type": "stream",
     "text": [
      "Estimated Word Probabilities (MLE):\n",
      "Word: 'I', Probability: 0.2500\n",
      "Word: 'am', Probability: 0.1667\n",
      "Word: 'Sam', Probability: 0.1667\n",
      "Word: 'do', Probability: 0.0833\n",
      "Word: 'not', Probability: 0.0833\n",
      "Word: 'like', Probability: 0.0833\n",
      "Word: 'green', Probability: 0.0833\n",
      "Word: 'eggs', Probability: 0.0833\n"
     ]
    }
   ],
   "source": [
    "from collections import Counter\n",
    "import numpy as np\n",
    "import math\n",
    "words=text.split()\n",
    "word_counts = Counter(words)\n",
    "total_words = len(words)\n",
    "\n",
    "word_probabilities = {word: count / total_words for word, count in word_counts.items()}\n",
    "\n",
    "print(\"Estimated Word Probabilities (MLE):\")\n",
    "for word, prob in word_probabilities.items():\n",
    "    print(f\"Word: '{word}', Probability: {prob:.4f}\")"
   ]
  },
  {
   "cell_type": "code",
   "execution_count": 34,
   "id": "651625c7-b44f-4255-9a8f-223f36d7d50f",
   "metadata": {},
   "outputs": [
    {
     "name": "stdout",
     "output_type": "stream",
     "text": [
      "Probability of the sequence is:  0.0005787037037037037\n"
     ]
    }
   ],
   "source": [
    "seq=qtext.split()\n",
    "prob=1.0\n",
    "for word in seq:\n",
    "    if word in word_probabilities:\n",
    "        prob *= word_probabilities[word]\n",
    "    else:\n",
    "        prob=0\n",
    "print(\"Probability of the sequence is: \",prob)"
   ]
  },
  {
   "cell_type": "code",
   "execution_count": 35,
   "id": "2dfac0e0-48f5-4029-a6e1-0f70f982577b",
   "metadata": {},
   "outputs": [
    {
     "name": "stdout",
     "output_type": "stream",
     "text": [
      "['I', 'am', 'Sam', 'green']\n"
     ]
    }
   ],
   "source": [
    "print(seq)"
   ]
  },
  {
   "cell_type": "code",
   "execution_count": 36,
   "id": "8f935696-8721-4d7f-88f0-121960b12e0d",
   "metadata": {},
   "outputs": [],
   "source": [
    "#Laplace law\n",
    "prob=1\n",
    "for word1 in seq:\n",
    "    if word in word_probabilities:\n",
    "        prob *= word_probabilities"
   ]
  }
 ],
 "metadata": {
  "kernelspec": {
   "display_name": "Python 3 (ipykernel)",
   "language": "python",
   "name": "python3"
  },
  "language_info": {
   "codemirror_mode": {
    "name": "ipython",
    "version": 3
   },
   "file_extension": ".py",
   "mimetype": "text/x-python",
   "name": "python",
   "nbconvert_exporter": "python",
   "pygments_lexer": "ipython3",
   "version": "3.11.7"
  }
 },
 "nbformat": 4,
 "nbformat_minor": 5
}
